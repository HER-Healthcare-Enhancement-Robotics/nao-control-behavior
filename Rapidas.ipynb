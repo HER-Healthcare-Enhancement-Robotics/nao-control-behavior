{
 "cells": [
  {
   "cell_type": "code",
   "execution_count": 10,
   "metadata": {},
   "outputs": [
    {
     "name": "stdout",
     "output_type": "stream",
     "text": [
      "1 0.04000000000000001\n",
      "2 0.08000000000000002\n",
      "3 0.12000000000000002\n",
      "4 0.16000000000000003\n",
      "5 0.2\n",
      "6 0.24\n",
      "7 0.27999999999999997\n",
      "8 0.32\n",
      "1.4400000000000002\n"
     ]
    }
   ],
   "source": [
    "start = .40\n",
    "growth = .1\n",
    "total = 0\n",
    "for i in range(1, 9):\n",
    "    print (i, start * growth)\n",
    "    total += start *growth\n",
    "    growth += .1\n",
    "print(total)"
   ]
  },
  {
   "cell_type": "code",
   "execution_count": null,
   "metadata": {},
   "outputs": [],
   "source": []
  }
 ],
 "metadata": {
  "kernelspec": {
   "display_name": "MLearn",
   "language": "python",
   "name": "python3"
  },
  "language_info": {
   "codemirror_mode": {
    "name": "ipython",
    "version": 3
   },
   "file_extension": ".py",
   "mimetype": "text/x-python",
   "name": "python",
   "nbconvert_exporter": "python",
   "pygments_lexer": "ipython3",
   "version": "3.11.5"
  }
 },
 "nbformat": 4,
 "nbformat_minor": 2
}
